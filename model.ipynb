{
 "cells": [
  {
   "cell_type": "markdown",
   "id": "cfda3c8a",
   "metadata": {},
   "source": [
    "# Load the Dataset\n",
    "\n",
    "### Objective:\n",
    "Read the `train_data.txt` file and load it into a clean DataFrame.\n",
    "\n",
    "---\n",
    "\n",
    "### Why?\n",
    "\n",
    "We want a structured table (like Excel) to work easily with movie plots and genres.\n",
    "This will make it much easier to preprocess, analyze, and build models."
   ]
  },
  {
   "cell_type": "code",
   "execution_count": 2,
   "id": "0292bb90",
   "metadata": {},
   "outputs": [
    {
     "name": "stdout",
     "output_type": "stream",
     "text": [
      "   ID                             Title     Genre  \\\n",
      "0   1      Oscar et la dame rose (2009)     drama   \n",
      "1   2                      Cupid (1997)  thriller   \n",
      "2   3  Young, Wild and Wonderful (1980)     adult   \n",
      "3   4             The Secret Sin (1915)     drama   \n",
      "4   5            The Unrecovered (2007)     drama   \n",
      "\n",
      "                                                Plot  \n",
      "0  Listening in to a conversation between his doc...  \n",
      "1  A brother and sister with a past incestuous re...  \n",
      "2  As the bus empties the students for their fiel...  \n",
      "3  To help their unemployed father make ends meet...  \n",
      "4  The film's title refers not only to the un-rec...  \n"
     ]
    }
   ],
   "source": [
    "import pandas as pd\n",
    "\n",
    "data = []\n",
    "with open('archive (12)/Genre Classification Dataset/train_data.txt', 'r', encoding='utf-8') as file:\n",
    "    for line in file:\n",
    "        parts = line.strip().split(' ::: ')\n",
    "        if len(parts) == 4:\n",
    "            movie_id, title, genre, plot = parts\n",
    "            data.append({\n",
    "                'ID': int(movie_id),\n",
    "                'Title': title,\n",
    "                'Genre': genre,\n",
    "                'Plot': plot\n",
    "            })\n",
    "\n",
    "# Step 2: Create a DataFrame\n",
    "train_df = pd.DataFrame(data)\n",
    "\n",
    "# Step 3: Check the first few entries\n",
    "print(train_df.head())\n"
   ]
  },
  {
   "cell_type": "markdown",
   "id": "02ddd82c",
   "metadata": {},
   "source": [
    "# Preprocess the Plot Text\n",
    "\n",
    "### Objective:\n",
    "Clean the \"Plot\" column to make it suitable for machine learning.\n",
    "\n",
    "---\n",
    "\n",
    "### Why?\n",
    "\n",
    "Raw text is messy — we need clean input for the model:\n",
    "\n",
    "- Convert all text to **lowercase**.\n",
    "- **Remove punctuation** and special characters.\n",
    "- **Remove stopwords** (common words like \"the\", \"is\", \"a\", etc.) that don't carry much meaning.\n",
    "\n"
   ]
  },
  {
   "cell_type": "code",
   "execution_count": 4,
   "id": "1a076342",
   "metadata": {},
   "outputs": [
    {
     "name": "stderr",
     "output_type": "stream",
     "text": [
      "[nltk_data] Downloading package stopwords to\n",
      "[nltk_data]     C:\\Users\\Priyanshu\\AppData\\Roaming\\nltk_data...\n",
      "[nltk_data]   Package stopwords is already up-to-date!\n"
     ]
    },
    {
     "name": "stdout",
     "output_type": "stream",
     "text": [
      "                                                Plot  \\\n",
      "0  Listening in to a conversation between his doc...   \n",
      "1  A brother and sister with a past incestuous re...   \n",
      "2  As the bus empties the students for their fiel...   \n",
      "3  To help their unemployed father make ends meet...   \n",
      "4  The film's title refers not only to the un-rec...   \n",
      "\n",
      "                                        Cleaned_Plot  \n",
      "0  listening conversation doctor parents yearold ...  \n",
      "1  brother sister past incestuous relationship cu...  \n",
      "2  bus empties students field trip museum natural...  \n",
      "3  help unemployed father make ends meet edith tw...  \n",
      "4  films title refers unrecovered bodies ground z...  \n"
     ]
    }
   ],
   "source": [
    "\n",
    "import re\n",
    "import nltk\n",
    "from nltk.corpus import stopwords\n",
    "\n",
    "# Download stopwords (only once)\n",
    "nltk.download('stopwords')\n",
    "\n",
    "stop_words = set(stopwords.words('english'))\n",
    "\n",
    "# Define a text cleaning function\n",
    "def clean_text(text):\n",
    "    # Lowercase\n",
    "    text = text.lower()\n",
    "    # Remove special characters and numbers\n",
    "    text = re.sub(r'[^a-z\\s]', '', text)\n",
    "    # Remove stopwords\n",
    "    words = text.split()\n",
    "    words = [word for word in words if word not in stop_words]\n",
    "    # Join back to text\n",
    "    return ' '.join(words)\n",
    "\n",
    "# Apply the cleaning function\n",
    "train_df['Cleaned_Plot'] = train_df['Plot'].apply(clean_text)\n",
    "\n",
    "# View cleaned data\n",
    "print(train_df[['Plot', 'Cleaned_Plot']].head())\n"
   ]
  },
  {
   "cell_type": "markdown",
   "id": "a57f0974",
   "metadata": {},
   "source": [
    "# Feature Extraction (Vectorization)\n",
    "\n",
    "### Objective:\n",
    "Convert the cleaned plot text into numerical features.\n",
    "\n",
    "---\n",
    "\n",
    "### Why?\n",
    "\n",
    "Machine learning models can only understand numbers — not words.\n",
    "\n",
    "We'll use **TF-IDF (Term Frequency-Inverse Document Frequency)** to:\n",
    "- Capture the importance of words across all plots.\n",
    "- Represent text in a format suitable for machine learning algorithms.\n"
   ]
  },
  {
   "cell_type": "code",
   "execution_count": 10,
   "id": "eee25de7",
   "metadata": {},
   "outputs": [
    {
     "name": "stdout",
     "output_type": "stream",
     "text": [
      "Shape of feature matrix: (54214, 5000)\n"
     ]
    }
   ],
   "source": [
    "from sklearn.feature_extraction.text import TfidfVectorizer\n",
    "\n",
    "\n",
    "# Initialize TF-IDF Vectorizer\n",
    "tfidf = TfidfVectorizer(max_features=5000)\n",
    "\n",
    "# Fit and transform the cleaned plot\n",
    "X = tfidf.fit_transform(train_df['Cleaned_Plot']).toarray()\n",
    "\n",
    "# Target Variable (Genre)\n",
    "y = train_df['Genre']\n",
    "\n",
    "print(f\"Shape of feature matrix: {X.shape}\")\n"
   ]
  },
  {
   "cell_type": "markdown",
   "id": "04514ef2",
   "metadata": {},
   "source": [
    "### Train-Test Split\n",
    "\n",
    "**Objective**: Split data into training and testing sets.\n",
    "\n",
    "**Why?**  \n",
    "We want to train the model on one portion of the data and test it on another to evaluate the model's performance and accuracy on unseen data. This helps in assessing the model's generalization ability and avoids overfitting to the training data.\n",
    "\n",
    "---\n",
    "\n",
    "In machine learning, splitting data into training and testing subsets is a crucial step in model evaluation. The most common split is 80% for training and 20% for testing, though the proportions can vary depending on the dataset and application.\n",
    "``\n"
   ]
  },
  {
   "cell_type": "code",
   "execution_count": 11,
   "id": "d216d06d",
   "metadata": {},
   "outputs": [
    {
     "name": "stdout",
     "output_type": "stream",
     "text": [
      "Training size: (43371, 5000), Testing size: (10843, 5000)\n"
     ]
    }
   ],
   "source": [
    "from sklearn.model_selection import train_test_split\n",
    "\n",
    "# Split data (80% training, 20% testing)\n",
    "X_train, X_test, y_train, y_test = train_test_split(X, y, test_size=0.2, random_state=42)\n",
    "\n",
    "print(f\"Training size: {X_train.shape}, Testing size: {X_test.shape}\")\n"
   ]
  },
  {
   "cell_type": "markdown",
   "id": "5720bc2c",
   "metadata": {},
   "source": [
    "### Train Models\n",
    "We'll try three models:\n",
    "\n",
    "- Logistic Regression\n",
    "\n",
    "- Random Forest\n",
    "\n",
    "- SVM\n",
    "\n",
    "---\n",
    "\n",
    "# Logistic Regression"
   ]
  },
  {
   "cell_type": "code",
   "execution_count": 12,
   "id": "f42cc096",
   "metadata": {},
   "outputs": [
    {
     "name": "stdout",
     "output_type": "stream",
     "text": [
      "Logistic Regression Accuracy: 0.5787143779396846\n",
      "              precision    recall  f1-score   support\n",
      "\n",
      "      action       0.50      0.25      0.33       263\n",
      "       adult       0.78      0.22      0.35       112\n",
      "   adventure       0.41      0.14      0.21       139\n",
      "   animation       0.64      0.09      0.15       104\n",
      "   biography       0.00      0.00      0.00        61\n",
      "      comedy       0.51      0.58      0.55      1443\n",
      "       crime       0.33      0.02      0.04       107\n",
      " documentary       0.67      0.84      0.75      2659\n",
      "       drama       0.54      0.78      0.64      2697\n",
      "      family       0.48      0.09      0.15       150\n",
      "     fantasy       0.00      0.00      0.00        74\n",
      "   game-show       0.94      0.42      0.59        40\n",
      "     history       0.00      0.00      0.00        45\n",
      "      horror       0.62      0.55      0.58       431\n",
      "       music       0.65      0.47      0.55       144\n",
      "     musical       0.25      0.02      0.04        50\n",
      "     mystery       0.00      0.00      0.00        56\n",
      "        news       1.00      0.03      0.06        34\n",
      "  reality-tv       0.49      0.20      0.29       192\n",
      "     romance       0.14      0.01      0.01       151\n",
      "      sci-fi       0.55      0.23      0.33       143\n",
      "       short       0.47      0.33      0.39      1045\n",
      "       sport       0.63      0.18      0.28        93\n",
      "   talk-show       0.48      0.14      0.21        81\n",
      "    thriller       0.41      0.15      0.22       309\n",
      "         war       0.00      0.00      0.00        20\n",
      "     western       0.95      0.73      0.83       200\n",
      "\n",
      "    accuracy                           0.58     10843\n",
      "   macro avg       0.46      0.24      0.28     10843\n",
      "weighted avg       0.55      0.58      0.54     10843\n",
      "\n"
     ]
    },
    {
     "name": "stderr",
     "output_type": "stream",
     "text": [
      "c:\\Users\\Priyanshu\\AppData\\Local\\Programs\\Python\\Python310\\lib\\site-packages\\sklearn\\metrics\\_classification.py:1565: UndefinedMetricWarning: Precision is ill-defined and being set to 0.0 in labels with no predicted samples. Use `zero_division` parameter to control this behavior.\n",
      "  _warn_prf(average, modifier, f\"{metric.capitalize()} is\", len(result))\n",
      "c:\\Users\\Priyanshu\\AppData\\Local\\Programs\\Python\\Python310\\lib\\site-packages\\sklearn\\metrics\\_classification.py:1565: UndefinedMetricWarning: Precision is ill-defined and being set to 0.0 in labels with no predicted samples. Use `zero_division` parameter to control this behavior.\n",
      "  _warn_prf(average, modifier, f\"{metric.capitalize()} is\", len(result))\n",
      "c:\\Users\\Priyanshu\\AppData\\Local\\Programs\\Python\\Python310\\lib\\site-packages\\sklearn\\metrics\\_classification.py:1565: UndefinedMetricWarning: Precision is ill-defined and being set to 0.0 in labels with no predicted samples. Use `zero_division` parameter to control this behavior.\n",
      "  _warn_prf(average, modifier, f\"{metric.capitalize()} is\", len(result))\n"
     ]
    }
   ],
   "source": [
    "from sklearn.linear_model import LogisticRegression\n",
    "from sklearn.metrics import accuracy_score, classification_report\n",
    "\n",
    "# Train\n",
    "log_model = LogisticRegression(max_iter=1000)\n",
    "log_model.fit(X_train, y_train)\n",
    "\n",
    "# Predict\n",
    "y_pred_log = log_model.predict(X_test)\n",
    "\n",
    "# Evaluate\n",
    "print(\"Logistic Regression Accuracy:\", accuracy_score(y_test, y_pred_log))\n",
    "print(classification_report(y_test, y_pred_log))\n"
   ]
  },
  {
   "cell_type": "markdown",
   "id": "0d681bf7",
   "metadata": {},
   "source": [
    "# Random Forest"
   ]
  },
  {
   "cell_type": "code",
   "execution_count": 14,
   "id": "f7ad3857",
   "metadata": {},
   "outputs": [
    {
     "name": "stdout",
     "output_type": "stream",
     "text": [
      "Random Forest Accuracy: 0.5001383380983123\n",
      "              precision    recall  f1-score   support\n",
      "\n",
      "      action       0.00      0.00      0.00       263\n",
      "       adult       0.79      0.10      0.17       112\n",
      "   adventure       0.43      0.09      0.14       139\n",
      "   animation       0.00      0.00      0.00       104\n",
      "   biography       0.00      0.00      0.00        61\n",
      "      comedy       0.47      0.31      0.37      1443\n",
      "       crime       1.00      0.01      0.02       107\n",
      " documentary       0.58      0.87      0.69      2659\n",
      "       drama       0.43      0.84      0.57      2697\n",
      "      family       1.00      0.03      0.05       150\n",
      "     fantasy       0.00      0.00      0.00        74\n",
      "   game-show       0.91      0.53      0.67        40\n",
      "     history       0.00      0.00      0.00        45\n",
      "      horror       0.61      0.19      0.29       431\n",
      "       music       0.63      0.22      0.32       144\n",
      "     musical       0.00      0.00      0.00        50\n",
      "     mystery       0.00      0.00      0.00        56\n",
      "        news       0.00      0.00      0.00        34\n",
      "  reality-tv       0.50      0.01      0.01       192\n",
      "     romance       0.00      0.00      0.00       151\n",
      "      sci-fi       0.64      0.05      0.09       143\n",
      "       short       0.56      0.12      0.19      1045\n",
      "       sport       0.71      0.11      0.19        93\n",
      "   talk-show       0.88      0.09      0.16        81\n",
      "    thriller       0.58      0.02      0.04       309\n",
      "         war       1.00      0.05      0.10        20\n",
      "     western       0.86      0.50      0.63       200\n",
      "\n",
      "    accuracy                           0.50     10843\n",
      "   macro avg       0.47      0.15      0.17     10843\n",
      "weighted avg       0.50      0.50      0.42     10843\n",
      "\n"
     ]
    },
    {
     "name": "stderr",
     "output_type": "stream",
     "text": [
      "c:\\Users\\Priyanshu\\AppData\\Local\\Programs\\Python\\Python310\\lib\\site-packages\\sklearn\\metrics\\_classification.py:1565: UndefinedMetricWarning: Precision is ill-defined and being set to 0.0 in labels with no predicted samples. Use `zero_division` parameter to control this behavior.\n",
      "  _warn_prf(average, modifier, f\"{metric.capitalize()} is\", len(result))\n",
      "c:\\Users\\Priyanshu\\AppData\\Local\\Programs\\Python\\Python310\\lib\\site-packages\\sklearn\\metrics\\_classification.py:1565: UndefinedMetricWarning: Precision is ill-defined and being set to 0.0 in labels with no predicted samples. Use `zero_division` parameter to control this behavior.\n",
      "  _warn_prf(average, modifier, f\"{metric.capitalize()} is\", len(result))\n",
      "c:\\Users\\Priyanshu\\AppData\\Local\\Programs\\Python\\Python310\\lib\\site-packages\\sklearn\\metrics\\_classification.py:1565: UndefinedMetricWarning: Precision is ill-defined and being set to 0.0 in labels with no predicted samples. Use `zero_division` parameter to control this behavior.\n",
      "  _warn_prf(average, modifier, f\"{metric.capitalize()} is\", len(result))\n"
     ]
    }
   ],
   "source": [
    "from sklearn.ensemble import RandomForestClassifier\n",
    "\n",
    "# Train\n",
    "rf_model = RandomForestClassifier()\n",
    "rf_model.fit(X_train, y_train)\n",
    "\n",
    "# Predict\n",
    "y_pred_rf = rf_model.predict(X_test)\n",
    "\n",
    "# Evaluate\n",
    "print(\"Random Forest Accuracy:\", accuracy_score(y_test, y_pred_rf))\n",
    "print(classification_report(y_test, y_pred_rf))\n"
   ]
  },
  {
   "cell_type": "markdown",
   "id": "6b584154",
   "metadata": {},
   "source": [
    "# Svm"
   ]
  },
  {
   "cell_type": "code",
   "execution_count": 15,
   "id": "6e164c74",
   "metadata": {},
   "outputs": [
    {
     "name": "stdout",
     "output_type": "stream",
     "text": [
      "SVM Accuracy: 0.5696762888499493\n",
      "              precision    recall  f1-score   support\n",
      "\n",
      "      action       0.39      0.30      0.34       263\n",
      "       adult       0.62      0.36      0.45       112\n",
      "   adventure       0.35      0.22      0.27       139\n",
      "   animation       0.36      0.17      0.23       104\n",
      "   biography       0.00      0.00      0.00        61\n",
      "      comedy       0.52      0.57      0.54      1443\n",
      "       crime       0.15      0.05      0.07       107\n",
      " documentary       0.69      0.81      0.75      2659\n",
      "       drama       0.56      0.70      0.62      2697\n",
      "      family       0.28      0.15      0.19       150\n",
      "     fantasy       0.22      0.05      0.09        74\n",
      "   game-show       0.76      0.65      0.70        40\n",
      "     history       0.00      0.00      0.00        45\n",
      "      horror       0.58      0.62      0.60       431\n",
      "       music       0.55      0.53      0.54       144\n",
      "     musical       0.20      0.04      0.07        50\n",
      "     mystery       0.16      0.05      0.08        56\n",
      "        news       0.14      0.03      0.05        34\n",
      "  reality-tv       0.50      0.31      0.38       192\n",
      "     romance       0.15      0.03      0.05       151\n",
      "      sci-fi       0.44      0.31      0.36       143\n",
      "       short       0.44      0.35      0.39      1045\n",
      "       sport       0.50      0.30      0.38        93\n",
      "   talk-show       0.51      0.25      0.33        81\n",
      "    thriller       0.26      0.16      0.20       309\n",
      "         war       0.50      0.15      0.23        20\n",
      "     western       0.81      0.79      0.80       200\n",
      "\n",
      "    accuracy                           0.57     10843\n",
      "   macro avg       0.39      0.29      0.32     10843\n",
      "weighted avg       0.54      0.57      0.54     10843\n",
      "\n"
     ]
    }
   ],
   "source": [
    "from sklearn.svm import LinearSVC\n",
    "\n",
    "# Train\n",
    "svm_model = LinearSVC()\n",
    "svm_model.fit(X_train, y_train)\n",
    "\n",
    "# Predict\n",
    "y_pred_svm = svm_model.predict(X_test)\n",
    "\n",
    "# Evaluate\n",
    "print(\"SVM Accuracy:\", accuracy_score(y_test, y_pred_svm))\n",
    "print(classification_report(y_test, y_pred_svm))\n"
   ]
  },
  {
   "cell_type": "markdown",
   "id": "4ad673a3",
   "metadata": {},
   "source": [
    "# Sample test"
   ]
  },
  {
   "cell_type": "code",
   "execution_count": 16,
   "id": "3ccc1ce5",
   "metadata": {},
   "outputs": [
    {
     "name": "stdout",
     "output_type": "stream",
     "text": [
      "Logistic Regression Prediction: short\n",
      "Random Forest Prediction: drama\n",
      "SVM Prediction: animation\n"
     ]
    }
   ],
   "source": [
    "# Sample test case\n",
    "sample_data = [\"A young boy discovers a magical world hidden in his backyard.\"]\n",
    "sample_cleaned = [clean_text(sample_data[0])]  # Clean the text using the existing clean_text function\n",
    "\n",
    "# Transform the sample data using the TF-IDF vectorizer\n",
    "sample_features = tfidf.transform(sample_cleaned).toarray()\n",
    "\n",
    "# Predict using the trained models\n",
    "log_pred = log_model.predict(sample_features)\n",
    "rf_pred = rf_model.predict(sample_features)\n",
    "svm_pred = svm_model.predict(sample_features)\n",
    "\n",
    "# Display predictions\n",
    "print(\"Logistic Regression Prediction:\", log_pred[0])\n",
    "print(\"Random Forest Prediction:\", rf_pred[0])\n",
    "print(\"SVM Prediction:\", svm_pred[0])"
   ]
  }
 ],
 "metadata": {
  "kernelspec": {
   "display_name": "Python 3",
   "language": "python",
   "name": "python3"
  },
  "language_info": {
   "codemirror_mode": {
    "name": "ipython",
    "version": 3
   },
   "file_extension": ".py",
   "mimetype": "text/x-python",
   "name": "python",
   "nbconvert_exporter": "python",
   "pygments_lexer": "ipython3",
   "version": "3.10.6"
  }
 },
 "nbformat": 4,
 "nbformat_minor": 5
}
